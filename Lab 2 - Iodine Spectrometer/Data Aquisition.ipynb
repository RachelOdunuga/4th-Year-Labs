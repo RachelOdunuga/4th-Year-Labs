{
 "cells": [
  {
   "cell_type": "markdown",
   "id": "6c79b19c",
   "metadata": {},
   "source": [
    "# Iodine Spectrometer Data Collection"
   ]
  },
  {
   "cell_type": "code",
   "execution_count": null,
   "id": "0c4e1f57",
   "metadata": {},
   "outputs": [],
   "source": [
    "import time\n",
    "from time import perf_counter, sleep\n",
    "import numpy as np\n",
    "import pandas as pd\n",
    "import matplotlib.pyplot as plt\n",
    "from pydaqmx_helper.adc import ADC"
   ]
  },
  {
   "cell_type": "markdown",
   "id": "b8eba4bf",
   "metadata": {},
   "source": [
    "### Variable Naming"
   ]
  },
  {
   "cell_type": "code",
   "execution_count": null,
   "id": "4f07e019",
   "metadata": {},
   "outputs": [],
   "source": [
    "sample_rate = 5000  # samples per second\n",
    "bin_size = 0.05  # seconds per bin\n",
    "countdown = 5  # seconds to wait before starting acquisition"
   ]
  },
  {
   "cell_type": "code",
   "execution_count": null,
   "id": "f43deeab",
   "metadata": {},
   "outputs": [],
   "source": [
    "stop = False\n",
    "def _enter_to_stop():\n",
    "    global stop\n",
    "    input(\"Press Enter to stop...\\n\")\n",
    "    stop = True"
   ]
  },
  {
   "cell_type": "code",
   "execution_count": null,
   "id": "a55910a6",
   "metadata": {},
   "outputs": [],
   "source": [
    "for s in range(countdown, 0, -1): # counting down so i know when to start the motor\n",
    "    print(s)\n",
    "    sleep(1)\n",
    "print(\"Starting acquisition...\")\n"
   ]
  },
  {
   "cell_type": "code",
   "execution_count": null,
   "id": "65ddbd13",
   "metadata": {},
   "outputs": [],
   "source": []
  },
  {
   "cell_type": "code",
   "execution_count": null,
   "id": "bf79758d",
   "metadata": {},
   "outputs": [],
   "source": [
    "loop_stop = 0\n",
    "\n",
    "myADC = ADC()\n",
    "myADC.addChannels([0], minRange = -10, maxRange = 10)\n",
    "data = myADC.sampleVoltages(sample_rate * bin_si\n",
    "\n",
    "while loop_stop == 0:\n",
    "\n"
   ]
  },
  {
   "cell_type": "code",
   "execution_count": null,
   "id": "3291c3aa",
   "metadata": {},
   "outputs": [],
   "source": [
    "myADC = ADC()\n",
    "myADC.addChannels([0], minRange = -10, maxRange = 10)\n"
   ]
  },
  {
   "cell_type": "code",
   "execution_count": null,
   "id": "66637b3c",
   "metadata": {},
   "outputs": [],
   "source": [
    "import time\n",
    "import numpy as np\n",
    "import pandas as pd\n",
    "from pydaqmx_helper.adc import ADC\n",
    "\n",
    "# --- User settings ---\n",
    "CHANNEL = 0\n",
    "V_RANGE = (-10, 10)\n",
    "SAMPLE_RATE = 5000\n",
    "BIN_SIZE = 0.05  # seconds\n",
    "DURATION = float(input(\"Scan duration (s): \") or \"120\")\n",
    "LABEL = input(\"Label: \") or \"run\"\n",
    "\n",
    "# --- Press Enter to stop ---\n",
    "stop = False\n",
    "def _enter_to_stop():\n",
    "    global stop\n",
    "    input(\"Press Enter to stop...\\n\")\n",
    "    stop = True\n",
    "\n",
    "import threading\n",
    "threading.Thread(target=_enter_to_stop, daemon=True).start()\n",
    "\n",
    "# --- Countdown ---\n",
    "for s in range(5, 0, -1):\n",
    "    print(s)\n",
    "    time.sleep(1)\n",
    "print(\"Starting acquisition...\")\n",
    "\n",
    "adc = ADC()\n",
    "adc.addChannels([CHANNEL], minRange=V_RANGE[0], maxRange=V_RANGE[1])\n",
    "\n",
    "samples_per_bin = int(SAMPLE_RATE * BIN_SIZE)\n",
    "n_bins = int(DURATION / BIN_SIZE)\n",
    "results = []\n",
    "\n",
    "start = time.perf_counter()\n",
    "while len(results) < n_bins and not stop:\n",
    "    data = adc.sampleVoltages(samples_per_bin, SAMPLE_RATE)\n",
    "    if np.ndim(data) > 1:\n",
    "        data = data[:, 0]\n",
    "    t = time.perf_counter() - start\n",
    "    results.append([t, np.mean(data), np.std(data)])\n",
    "\n",
    "df = pd.DataFrame(results, columns=[\"time_s\", \"mean_V\", \"std_V\"])\n",
    "fname = f\"{LABEL}_{int(time.time())}.csv\"\n",
    "df.to_csv(fname, index=False)\n",
    "print(f\"Saved: {fname}\")"
   ]
  }
 ],
 "metadata": {
  "language_info": {
   "name": "python"
  }
 },
 "nbformat": 4,
 "nbformat_minor": 5
}
