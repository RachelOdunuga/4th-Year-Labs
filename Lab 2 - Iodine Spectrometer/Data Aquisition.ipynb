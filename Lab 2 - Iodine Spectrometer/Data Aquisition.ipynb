{
 "cells": [
  {
   "cell_type": "markdown",
   "id": "6c79b19c",
   "metadata": {},
   "source": [
    "# Iodine Spectrometer Data Collection"
   ]
  },
  {
   "cell_type": "code",
   "execution_count": null,
   "id": "0c4e1f57",
   "metadata": {},
   "outputs": [],
   "source": [
    "import time\n",
    "from time import perf_counter, sleep\n",
    "import numpy as np\n",
    "import pandas as pd\n",
    "import matplotlib.pyplot as plt\n",
    "from pydaqmx_helper.adc import ADC"
   ]
  },
  {
   "cell_type": "markdown",
   "id": "b8eba4bf",
   "metadata": {},
   "source": [
    "### Variable Naming"
   ]
  },
  {
   "cell_type": "code",
   "execution_count": null,
   "id": "4f07e019",
   "metadata": {},
   "outputs": [],
   "source": [
    "sample_rate = 5000  # samples per second\n",
    "bin_size = 0.05  # seconds per bin\n",
    "countdown = 5  # seconds to wait before starting acquisition"
   ]
  },
  {
   "cell_type": "code",
   "execution_count": null,
   "id": "f43deeab",
   "metadata": {},
   "outputs": [],
   "source": [
    "stop = False\n",
    "def _enter_to_stop():\n",
    "    global stop\n",
    "    input(\"Press Enter to stop...\\n\")\n",
    "    stop = True"
   ]
  },
  {
   "cell_type": "code",
   "execution_count": null,
   "id": "a55910a6",
   "metadata": {},
   "outputs": [],
   "source": [
    "for s in range(countdown, 0, -1): # counting down so i know when to start the motor\n",
    "    print(s)\n",
    "    sleep(1)\n",
    "print(\"Starting acquisition...\")\n"
   ]
  },
  {
   "cell_type": "code",
   "execution_count": null,
   "id": "65ddbd13",
   "metadata": {},
   "outputs": [],
   "source": []
  },
  {
   "cell_type": "code",
   "execution_count": null,
   "id": "bf79758d",
   "metadata": {},
   "outputs": [],
   "source": [
    "loop_stop = 0\n",
    "\n",
    "myADC = ADC()\n",
    "myADC.addChannels([0], minRange = -10, maxRange = 10)\n",
    "data = myADC.sampleVoltages(sample_rate * bin_si\n",
    "\n",
    "while loop_stop == 0:\n",
    "\n"
   ]
  },
  {
   "cell_type": "code",
   "execution_count": null,
   "id": "3291c3aa",
   "metadata": {},
   "outputs": [],
   "source": [
    "import time\n",
    "from threading import Event, Thread\n",
    "from pathlib import Path\n",
    "import numpy as np\n",
    "import pandas as pd\n",
    "from pydaqmx_helper.adc import ADC  \n",
    "\n",
    "\n",
    "sample_rate = 5000  \n",
    "samples_num = 500\n",
    "\n",
    "def _wait_for_enter(stop_event: Event):\n",
    "    input(\"Press ENTER to stop acquisition...\\n\")\n",
    "    stop_event.set()\n",
    "\n",
    "def acquire_channel0_simple(sample_rate, samples_num):\n",
    "\n",
    "    for s in range(5, 0, -1):\n",
    "        print(s)\n",
    "        time.sleep(1)\n",
    "    print(\"Starting now!\")\n",
    "\n",
    "    myADC = ADC()\n",
    "    myADC.addChannels([0], minRange=-10, maxRange=10)\n",
    "\n",
    "    stop_event = Event()\n",
    "    stopper = Thread(target=_wait_for_enter, args=(stop_event,), daemon=True)\n",
    "    stopper.start()\n",
    "\n",
    "    # Running lists\n",
    "    time_stamps_sec = []\n",
    "    averaged_voltages = []\n",
    "    voltage_stds = []\n",
    "\n",
    "    total_samples_read = 0\n",
    "    print(\"Acquisition started — press ENTER to stop.\\n\")\n",
    "\n",
    "    while not stop_event.is_set():\n",
    "\n",
    "        block = np.asarray(myADC.sampleVoltages(samples_num, sample_rate)[0], dtype=float).reshape(-1)\n",
    "\n",
    "        block_mean = float(block.mean())\n",
    "        block_std  = float(block.std(ddof=1)) if block.size > 1 else 0.0\n",
    "\n",
    "        mid_sample_index = total_samples_read + (samples_num / 2.0)\n",
    "        mid_time_s = mid_sample_index / sample_rate\n",
    "\n",
    "        time_stamps_sec.append(mid_time_s)\n",
    "        averaged_voltages.append(block_mean)\n",
    "        voltage_stds.append(block_std)\n",
    "\n",
    "        total_samples_read += block.size\n",
    "\n",
    "    df = pd.DataFrame({\n",
    "        \"time_s\": np.array(time_stamps_sec),\n",
    "        \"ch0_mean_V\": np.array(averaged_voltages),\n",
    "        \"ch0_std_V\": np.array(voltage_stds),\n",
    "    })\n",
    "    return df\n",
    "\n",
    "run_label = input(\"Enter run label (e.g. 'reference_lamp' or 'iodine_sample'): \").strip() or \"run\"\n",
    "lambda_start_nm = float(input(\"Enter START wavelength from spectrometer display (nm): \").strip())\n",
    "\n",
    "df = acquire_channel0_simple(sample_rate, samples_num)\n",
    "\n",
    "elapsed_s = df[\"time_s\"].iloc[-1] + (samples_num / sample_rate) / 2.0 if len(df) else 0.0\n",
    "lambda_end_nm = float(input(\"Enter END wavelength from spectrometer display (nm): \").strip())\n",
    "\n",
    "if elapsed_s > 0:\n",
    "    df[\"lambda_nm_est\"] = lambda_start_nm + (lambda_end_nm - lambda_start_nm) * (df[\"time_s\"] / elapsed_s)\n",
    "else:\n",
    "    df[\"lambda_nm_est\"] = np.nan\n",
    "\n",
    "pd.DataFrame.to_csv(df, Path(f\"ADC_{run_label}.csv\"), index=False)\n",
    "\n",
    "print(f\"Points: {len(df)} | Duration: {elapsed_s:.2f} s | Start λ: {lambda_start_nm} nm | End λ: {lambda_end_nm} nm\")\n"
   ]
  }
 ],
 "metadata": {
  "language_info": {
   "name": "python"
  }
 },
 "nbformat": 4,
 "nbformat_minor": 5
}
